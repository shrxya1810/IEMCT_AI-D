{
 "cells": [
  {
   "cell_type": "markdown",
   "id": "5595221c-857a-4116-b31d-d72184b1f529",
   "metadata": {},
   "source": [
    "Write a python program to find all the solutions to the eqution (x + y + z = 10)"
   ]
  },
  {
   "cell_type": "code",
   "execution_count": 1,
   "id": "422ac544-aaa1-42ad-9641-d13e3a63a93d",
   "metadata": {},
   "outputs": [
    {
     "name": "stdout",
     "output_type": "stream",
     "text": [
      "All solutions to the equation (x + y + z = 10):\n",
      "x = 0, y = 0, z = 10\n",
      "x = 0, y = 1, z = 9\n",
      "x = 0, y = 2, z = 8\n",
      "x = 0, y = 3, z = 7\n",
      "x = 0, y = 4, z = 6\n",
      "x = 0, y = 5, z = 5\n",
      "x = 0, y = 6, z = 4\n",
      "x = 0, y = 7, z = 3\n",
      "x = 0, y = 8, z = 2\n",
      "x = 0, y = 9, z = 1\n",
      "x = 0, y = 10, z = 0\n",
      "x = 1, y = 0, z = 9\n",
      "x = 1, y = 1, z = 8\n",
      "x = 1, y = 2, z = 7\n",
      "x = 1, y = 3, z = 6\n",
      "x = 1, y = 4, z = 5\n",
      "x = 1, y = 5, z = 4\n",
      "x = 1, y = 6, z = 3\n",
      "x = 1, y = 7, z = 2\n",
      "x = 1, y = 8, z = 1\n",
      "x = 1, y = 9, z = 0\n",
      "x = 2, y = 0, z = 8\n",
      "x = 2, y = 1, z = 7\n",
      "x = 2, y = 2, z = 6\n",
      "x = 2, y = 3, z = 5\n",
      "x = 2, y = 4, z = 4\n",
      "x = 2, y = 5, z = 3\n",
      "x = 2, y = 6, z = 2\n",
      "x = 2, y = 7, z = 1\n",
      "x = 2, y = 8, z = 0\n",
      "x = 3, y = 0, z = 7\n",
      "x = 3, y = 1, z = 6\n",
      "x = 3, y = 2, z = 5\n",
      "x = 3, y = 3, z = 4\n",
      "x = 3, y = 4, z = 3\n",
      "x = 3, y = 5, z = 2\n",
      "x = 3, y = 6, z = 1\n",
      "x = 3, y = 7, z = 0\n",
      "x = 4, y = 0, z = 6\n",
      "x = 4, y = 1, z = 5\n",
      "x = 4, y = 2, z = 4\n",
      "x = 4, y = 3, z = 3\n",
      "x = 4, y = 4, z = 2\n",
      "x = 4, y = 5, z = 1\n",
      "x = 4, y = 6, z = 0\n",
      "x = 5, y = 0, z = 5\n",
      "x = 5, y = 1, z = 4\n",
      "x = 5, y = 2, z = 3\n",
      "x = 5, y = 3, z = 2\n",
      "x = 5, y = 4, z = 1\n",
      "x = 5, y = 5, z = 0\n",
      "x = 6, y = 0, z = 4\n",
      "x = 6, y = 1, z = 3\n",
      "x = 6, y = 2, z = 2\n",
      "x = 6, y = 3, z = 1\n",
      "x = 6, y = 4, z = 0\n",
      "x = 7, y = 0, z = 3\n",
      "x = 7, y = 1, z = 2\n",
      "x = 7, y = 2, z = 1\n",
      "x = 7, y = 3, z = 0\n",
      "x = 8, y = 0, z = 2\n",
      "x = 8, y = 1, z = 1\n",
      "x = 8, y = 2, z = 0\n",
      "x = 9, y = 0, z = 1\n",
      "x = 9, y = 1, z = 0\n",
      "x = 10, y = 0, z = 0\n"
     ]
    }
   ],
   "source": [
    "def find_solutions(target_sum):\n",
    "    solutions = []\n",
    "    for x in range(target_sum + 1):\n",
    "        for y in range(target_sum - x + 1):\n",
    "            z = target_sum - x - y\n",
    "            solutions.append((x, y, z))\n",
    "    return solutions\n",
    "\n",
    "# Set the target sum\n",
    "target_sum = 10\n",
    "\n",
    "# Find all solutions\n",
    "all_solutions = find_solutions(target_sum)\n",
    "\n",
    "# Display solutions\n",
    "print(f\"All solutions to the equation (x + y + z = {target_sum}):\")\n",
    "for solution in all_solutions:\n",
    "    print(f\"x = {solution[0]}, y = {solution[1]}, z = {solution[2]}\")\n"
   ]
  },
  {
   "cell_type": "markdown",
   "id": "1e67ff60-ad72-4a35-9080-86d3d42af384",
   "metadata": {},
   "source": [
    "take 5 names as input from the user and store it in a list\n",
    "And remove if there are any spaces in the name , make the first part of the name\n",
    "uppercase, rest of the name lowercase, remove the last two leLers, sort the list in\n",
    "ascending order and give the indexing to the name while printing"
   ]
  },
  {
   "cell_type": "code",
   "execution_count": 2,
   "id": "1738fe6f-2862-431e-aeda-8b8f27be2d65",
   "metadata": {},
   "outputs": [
    {
     "name": "stdin",
     "output_type": "stream",
     "text": [
      "Enter a name:  Shreya Agarwal\n",
      "Enter a name:  Donald Trump\n",
      "Enter a name:  Modi ji\n",
      "Enter a name:  Shanaya Singhania\n",
      "Enter a name:  Shah Rukh Khan\n"
     ]
    },
    {
     "name": "stdout",
     "output_type": "stream",
     "text": [
      "Output:\n",
      "1. Donaldtru\n",
      "2. Modi\n",
      "3. Shahrukhkh\n",
      "4. Shanayasinghan\n",
      "5. Shreyaagarw\n"
     ]
    }
   ],
   "source": [
    "def process_name(name):\n",
    "    # Remove spaces, make the first part uppercase, rest lowercase\n",
    "    processed_name = name.replace(\" \", \"\").capitalize()\n",
    "\n",
    "    # Remove the last two letters\n",
    "    processed_name = processed_name[:-2]\n",
    "\n",
    "    return processed_name\n",
    "\n",
    "# Take 5 names as input from the user\n",
    "names = []\n",
    "for i in range(5):\n",
    "    name = input(\"Enter a name: \")\n",
    "    processed_name = process_name(name)\n",
    "    names.append(processed_name)\n",
    "\n",
    "# Sort the list in ascending order\n",
    "names.sort()\n",
    "\n",
    "# Print the output with indexing\n",
    "print(\"Output:\")\n",
    "for i, name in enumerate(names, start=1):\n",
    "    print(f\"{i}. {name}\")\n"
   ]
  },
  {
   "cell_type": "markdown",
   "id": "4b46939f-5cc1-4723-9792-ae1d020a5888",
   "metadata": {},
   "source": [
    "Write a python program to create calculator that perform arithmetic operations:"
   ]
  },
  {
   "cell_type": "code",
   "execution_count": 3,
   "id": "eb6c75e0-51ab-4a1f-8c3b-3cac1a38d922",
   "metadata": {},
   "outputs": [
    {
     "name": "stdin",
     "output_type": "stream",
     "text": [
      "Enter the first number:  3\n",
      "Enter the second number:  6\n",
      "Enter the operation (Add, Sub, Mul, Div, Mod, Exp):  Add\n"
     ]
    },
    {
     "name": "stdout",
     "output_type": "stream",
     "text": [
      "3.0 + 6.0 = 9.0\n"
     ]
    }
   ],
   "source": [
    "def addition(x, y):\n",
    "    return x + y\n",
    "\n",
    "def subtraction(x, y):\n",
    "    return x - y\n",
    "\n",
    "def multiplication(x, y):\n",
    "    return x * y\n",
    "\n",
    "def division(x, y):\n",
    "    if y != 0:\n",
    "        return x / y\n",
    "    else:\n",
    "        return \"Cannot divide by zero!\"\n",
    "\n",
    "def modulus(x, y):\n",
    "    if y != 0:\n",
    "        return x % y\n",
    "    else:\n",
    "        return \"Cannot compute modulus with zero!\"\n",
    "\n",
    "def exponent(x, y):\n",
    "    return x ** y\n",
    "\n",
    "# Take input from the user\n",
    "num1 = float(input(\"Enter the first number: \"))\n",
    "num2 = float(input(\"Enter the second number: \"))\n",
    "operation = input(\"Enter the operation (Add, Sub, Mul, Div, Mod, Exp): \").lower()\n",
    "\n",
    "# Perform the selected operation\n",
    "if operation == \"add\":\n",
    "    result = addition(num1, num2)\n",
    "    operation_symbol = \"+\"\n",
    "elif operation == \"sub\":\n",
    "    result = subtraction(num1, num2)\n",
    "    operation_symbol = \"-\"\n",
    "elif operation == \"mul\":\n",
    "    result = multiplication(num1, num2)\n",
    "    operation_symbol = \"*\"\n",
    "elif operation == \"div\":\n",
    "    result = division(num1, num2)\n",
    "    operation_symbol = \"/\"\n",
    "elif operation == \"mod\":\n",
    "    result = modulus(num1, num2)\n",
    "    operation_symbol = \"%\"\n",
    "elif operation == \"exp\":\n",
    "    result = exponent(num1, num2)\n",
    "    operation_symbol = \"**\"\n",
    "else:\n",
    "    result = \"Invalid operation\"\n",
    "    operation_symbol = \"\"\n",
    "\n",
    "# Print the result\n",
    "if operation_symbol:\n",
    "    print(f\"{num1} {operation_symbol} {num2} = {result}\")\n",
    "else:\n",
    "    print(result)\n"
   ]
  },
  {
   "cell_type": "markdown",
   "id": "f63535d5-170f-4823-abbd-32f99689157e",
   "metadata": {},
   "source": [
    "Write a python program to find all the prime numbers between a given range by\n",
    "user"
   ]
  },
  {
   "cell_type": "code",
   "execution_count": 4,
   "id": "484663d6-2a6f-435f-b814-35e9ffa78235",
   "metadata": {},
   "outputs": [
    {
     "name": "stdin",
     "output_type": "stream",
     "text": [
      "Enter the start of the range:  2\n",
      "Enter the end of the range:  66\n"
     ]
    },
    {
     "name": "stdout",
     "output_type": "stream",
     "text": [
      "Prime numbers between 2 and 66:\n",
      "2\n",
      "3\n",
      "5\n",
      "7\n",
      "11\n",
      "13\n",
      "17\n",
      "19\n",
      "23\n",
      "29\n",
      "31\n",
      "37\n",
      "41\n",
      "43\n",
      "47\n",
      "53\n",
      "59\n",
      "61\n"
     ]
    }
   ],
   "source": [
    "def is_prime(num):\n",
    "    if num < 2:\n",
    "        return False\n",
    "    for i in range(2, int(num**0.5) + 1):\n",
    "        if num % i == 0:\n",
    "            return False\n",
    "    return True\n",
    "\n",
    "# Take input from the user for the range\n",
    "start_range = int(input(\"Enter the start of the range: \"))\n",
    "end_range = int(input(\"Enter the end of the range: \"))\n",
    "\n",
    "# Find and print prime numbers in the given range\n",
    "print(f\"Prime numbers between {start_range} and {end_range}:\")\n",
    "for number in range(start_range, end_range + 1):\n",
    "    if is_prime(number):\n",
    "        print(number)\n"
   ]
  },
  {
   "cell_type": "markdown",
   "id": "f477ff6a-f4de-4a23-be42-a069b836e454",
   "metadata": {},
   "source": [
    "Write a python program to take 5 names , 5 numbers from user ,store it a 2d array\n",
    "And create a dic6onary using the 2d array without using zip func6on, sort the array\n",
    "based on the value."
   ]
  },
  {
   "cell_type": "code",
   "execution_count": 5,
   "id": "4778ca97-b138-4b4c-be61-25e0a41831e7",
   "metadata": {},
   "outputs": [
    {
     "name": "stdin",
     "output_type": "stream",
     "text": [
      "Enter a name:  Rohan\n",
      "Enter a number:  56\n",
      "Enter a name:  Kevin\n",
      "Enter a number:  75\n",
      "Enter a name:  Dhanush\n",
      "Enter a number:  4\n",
      "Enter a name:  Arav\n",
      "Enter a number:  7\n",
      "Enter a name:  Kylie\n",
      "Enter a number:  7\n"
     ]
    },
    {
     "name": "stdout",
     "output_type": "stream",
     "text": [
      "Output:\n",
      "{'Dhanush': 4, 'Arav': 7, 'Kylie': 7, 'Rohan': 56, 'Kevin': 75}\n"
     ]
    }
   ],
   "source": [
    "# Initialize an empty 2D array\n",
    "data_array = [[0, 0] for _ in range(5)]\n",
    "\n",
    "# Take input for names and numbers\n",
    "for i in range(5):\n",
    "    data_array[i][0] = input(\"Enter a name: \")\n",
    "    data_array[i][1] = int(input(\"Enter a number: \"))\n",
    "\n",
    "# Create a dictionary from the 2D array\n",
    "data_dict = {}\n",
    "for item in data_array:\n",
    "    data_dict[item[0]] = item[1]\n",
    "\n",
    "# Sort the dictionary based on values\n",
    "sorted_data = dict(sorted(data_dict.items(), key=lambda item: item[1]))\n",
    "\n",
    "# Print the sorted dictionary\n",
    "print(\"Output:\")\n",
    "print(sorted_data)\n"
   ]
  },
  {
   "cell_type": "code",
   "execution_count": null,
   "id": "70f32f6c-51bc-4053-b764-ba28b32a4b04",
   "metadata": {},
   "outputs": [],
   "source": []
  }
 ],
 "metadata": {
  "kernelspec": {
   "display_name": "Python 3 (ipykernel)",
   "language": "python",
   "name": "python3"
  },
  "language_info": {
   "codemirror_mode": {
    "name": "ipython",
    "version": 3
   },
   "file_extension": ".py",
   "mimetype": "text/x-python",
   "name": "python",
   "nbconvert_exporter": "python",
   "pygments_lexer": "ipython3",
   "version": "3.12.0"
  }
 },
 "nbformat": 4,
 "nbformat_minor": 5
}
